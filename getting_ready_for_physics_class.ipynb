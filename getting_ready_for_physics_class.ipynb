{
 "cells": [
  {
   "cell_type": "code",
   "execution_count": 1,
   "id": "2e9bb89b",
   "metadata": {},
   "outputs": [
    {
     "name": "stdout",
     "output_type": "stream",
     "text": [
      "Temperature in Celcius 37.77777777777778\n",
      "Temperature in Fahrenheit 32.0\n",
      "The GE train supplies 226800 Newtons of force.\n",
      "A 1kg bomb supplies 90000000000000000 Joules.\n",
      "The GE train does 22680000 Joules of work over 100 meters.\n"
     ]
    }
   ],
   "source": [
    "train_mass = 22680\n",
    "train_acceleration = 10\n",
    "train_distance = 100\n",
    "bomb_mass = 1\n",
    "c = 3*10**8\n",
    " \n",
    "def f_to_c(f_temp):\n",
    "  c_temp = (f_temp - 32) * 5/9\n",
    "  return c_temp\n",
    "f100_in_celcius = f_to_c(100)\n",
    "print('Temperature in Celcius ' + str(f100_in_celcius))\n",
    "\n",
    "def c_to_f(c_temp):\n",
    "  f_temp = (c_temp * (9/5) + 32)\n",
    "  return f_temp\n",
    "c0_in_fahrenheit = c_to_f(0)\n",
    "print('Temperature in Fahrenheit ' + str(c0_in_fahrenheit))\n",
    "\n",
    "def get_force(mass, acceleration):\n",
    "  return mass*acceleration\n",
    "train_force = get_force(train_mass, train_acceleration)\n",
    "print('The GE train supplies ' + str(train_force) + ' Newtons of force.')\n",
    "\n",
    "def get_energy(mass, c):\n",
    "    return mass * c**2\n",
    "bomb_energy = get_energy(bomb_mass, c)\n",
    "print('A 1kg bomb supplies ' + str(bomb_energy) + ' Joules.')\n",
    "\n",
    "def get_work(mass, acceleration, distance):\n",
    "  return get_force(mass, acceleration)*distance\n",
    "train_work = get_work(train_mass, train_acceleration, train_distance)\n",
    "print('The GE train does ' + str(train_work) + ' Joules of work over ' + str(train_distance) + ' meters.')"
   ]
  },
  {
   "cell_type": "code",
   "execution_count": null,
   "id": "a8ea612d",
   "metadata": {},
   "outputs": [],
   "source": []
  }
 ],
 "metadata": {
  "kernelspec": {
   "display_name": "Python 3 (ipykernel)",
   "language": "python",
   "name": "python3"
  },
  "language_info": {
   "codemirror_mode": {
    "name": "ipython",
    "version": 3
   },
   "file_extension": ".py",
   "mimetype": "text/x-python",
   "name": "python",
   "nbconvert_exporter": "python",
   "pygments_lexer": "ipython3",
   "version": "3.9.12"
  }
 },
 "nbformat": 4,
 "nbformat_minor": 5
}
